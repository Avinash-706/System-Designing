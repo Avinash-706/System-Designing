{
 "cells": [
  {
   "cell_type": "markdown",
   "id": "71d5d0af-9056-46c8-9cc6-bdc3be88cdfb",
   "metadata": {},
   "source": [
    "# SYSTEM DESIGN NOTES\n",
    "\n",
    "## What is System Design?\n",
    "- Process of defining architecture, modules, components, and data flow\n",
    "- Key Goals: Scalability, Reliability, Performance\n",
    "\n",
    "## Steps in System Design\n",
    "1. Requirement Analysis\n",
    "2. Define System Components\n",
    "3. Architecture Choice (Monolith / Microservices)\n",
    "4. Database & API Design\n",
    "5. Scaling Strategy\n",
    "6. Monitoring & Logging\n"
   ]
  },
  {
   "cell_type": "code",
   "execution_count": 1,
   "id": "1bd5f6d0-6d7d-41f9-8b70-e90af73845aa",
   "metadata": {},
   "outputs": [
    {
     "name": "stdout",
     "output_type": "stream",
     "text": [
      "Request 1 sent to Server2\n",
      "Request 2 sent to Server3\n",
      "Request 3 sent to Server1\n",
      "Request 4 sent to Server2\n",
      "Request 5 sent to Server3\n",
      "Request 6 sent to Server1\n"
     ]
    }
   ],
   "source": [
    "# Example: Simple Load Balancer Simulation\n",
    "servers = [\"Server1\", \"Server2\", \"Server3\"]\n",
    "requests = 6\n",
    "\n",
    "for i in range(1, requests+1):\n",
    "    server = servers[i % len(servers)]\n",
    "    print(f\"Request {i} sent to {server}\")\n"
   ]
  }
 ],
 "metadata": {
  "kernelspec": {
   "display_name": "Python 3 (ipykernel)",
   "language": "python",
   "name": "python3"
  },
  "language_info": {
   "codemirror_mode": {
    "name": "ipython",
    "version": 3
   },
   "file_extension": ".py",
   "mimetype": "text/x-python",
   "name": "python",
   "nbconvert_exporter": "python",
   "pygments_lexer": "ipython3",
   "version": "3.13.5"
  }
 },
 "nbformat": 4,
 "nbformat_minor": 5
}
